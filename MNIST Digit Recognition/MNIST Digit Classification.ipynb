{
 "cells": [
  {
   "cell_type": "code",
   "execution_count": 1,
   "metadata": {},
   "outputs": [],
   "source": [
    "from mnist import MNIST\n",
    "import numpy as np\n",
    "import matplotlib.pyplot as plt\n",
    "import math\n",
    "\n",
    "%matplotlib inline\n",
    "%load_ext autoreload "
   ]
  },
  {
   "cell_type": "code",
   "execution_count": 2,
   "metadata": {},
   "outputs": [],
   "source": [
    "# Default figure size\n",
    "plt.rcParams['figure.figsize'] = (10,7)\n",
    "%autoreload 2\n",
    "from utilities import *"
   ]
  },
  {
   "cell_type": "code",
   "execution_count": 3,
   "metadata": {},
   "outputs": [
    {
     "name": "stdout",
     "output_type": "stream",
     "text": [
      "W1 =\n",
      " [[ 1.81855589  1.00061016]\n",
      " [ 1.18362556  0.83260838]\n",
      " [-0.84373564 -0.09878221]]\n",
      "b1 =\n",
      " [[0.]\n",
      " [0.]\n",
      " [0.]]\n",
      "W2 =\n",
      " [[-0.58880422  0.82345398 -1.06395998]\n",
      " [ 0.09780964 -0.66907348  1.02519104]\n",
      " [-0.12336589  0.0440669  -1.32712586]]\n",
      "b2 =\n",
      " [[0.]\n",
      " [0.]\n",
      " [0.]]\n"
     ]
    }
   ],
   "source": [
    "params = params_init([2,3,3])\n",
    "print(\"W1 =\\n %s\" %(params['W1']))\n",
    "print(\"b1 =\\n %s\" %(params['b1']))\n",
    "print(\"W2 =\\n %s\" %(params['W2']))\n",
    "print(\"b2 =\\n %s\" %(params['b2']))"
   ]
  },
  {
   "cell_type": "code",
   "execution_count": 4,
   "metadata": {},
   "outputs": [
    {
     "name": "stdout",
     "output_type": "stream",
     "text": [
      "[[ 5  7 10]\n",
      " [ 2  3  5]]\n",
      "[[6.67296773e-01 7.44104695e-01 8.42229138e-01]\n",
      " [1.64805156e-02 3.74181815e-03 2.94723368e-04]\n",
      " [3.16222711e-01 2.52153486e-01 1.57476138e-01]]\n",
      "[1. 1. 1.]\n"
     ]
    }
   ],
   "source": [
    "X = np.array([[5,7,10],[2,3,5]])\n",
    "print(X)\n",
    "output,caches = forward_prop(X,params)\n",
    "print (output)\n",
    "print (np.sum(output,axis=0))"
   ]
  },
  {
   "cell_type": "code",
   "execution_count": 5,
   "metadata": {},
   "outputs": [
    {
     "data": {
      "text/plain": [
       "{'A0': array([[ 5,  7, 10],\n",
       "        [ 2,  3,  5]]), 'A1': array([[11.09399979, 15.73172174, 23.18860974],\n",
       "        [ 7.58334458, 10.78320408, 15.99929753],\n",
       "        [ 0.        ,  0.        ,  0.        ]]), 'Z1': array([[11.09399979, 15.73172174, 23.18860974],\n",
       "        [ 7.58334458, 10.78320408, 15.99929753],\n",
       "        [-4.4162426 , -6.20249607, -8.9312674 ]]), 'Z2': array([[-0.28765856, -0.38343174, -0.47886592],\n",
       "        [-3.98871463, -5.67604186, -8.43663613],\n",
       "        [-1.0344467 , -1.46557551, -2.15564409]])}"
      ]
     },
     "execution_count": 5,
     "metadata": {},
     "output_type": "execute_result"
    }
   ],
   "source": [
    "caches"
   ]
  },
  {
   "cell_type": "code",
   "execution_count": 6,
   "metadata": {},
   "outputs": [
    {
     "name": "stdout",
     "output_type": "stream",
     "text": [
      "[[1. 0. 0.]\n",
      " [0. 1. 0.]\n",
      " [0. 0. 1.]]\n"
     ]
    },
    {
     "data": {
      "text/plain": [
       "2.613728459618913"
      ]
     },
     "execution_count": 6,
     "metadata": {},
     "output_type": "execute_result"
    }
   ],
   "source": [
    "Y = np.eye(3,3)\n",
    "print (Y)\n",
    "cost = costFunction(output,Y)\n",
    "cost"
   ]
  },
  {
   "cell_type": "code",
   "execution_count": 7,
   "metadata": {},
   "outputs": [
    {
     "data": {
      "text/plain": [
       "{'dA1': array([[ 0.15849792, -0.56668278, -0.39194053],\n",
       "        [-0.27105752,  1.29041753,  0.65621233],\n",
       "        [-0.04878874, -2.14769199,  0.22233926]]),\n",
       " 'dW1': array([[-2.36456506, -1.11425172],\n",
       "        [ 4.74658614,  2.20339974],\n",
       "        [ 0.        ,  0.        ]]),\n",
       " 'dW2': array([[ 9.18172043,  6.32530138,  0.        ],\n",
       "        [-5.16106248, -3.53772083,  0.        ],\n",
       "        [-4.02065795, -2.78758055,  0.        ]]),\n",
       " 'db1': array([[-0.26670846],\n",
       "        [ 0.55852411],\n",
       "        [ 0.        ]]),\n",
       " 'db2': array([[ 0.41787687],\n",
       "        [-0.32649431],\n",
       "        [-0.09138255]])}"
      ]
     },
     "execution_count": 7,
     "metadata": {},
     "output_type": "execute_result"
    }
   ],
   "source": [
    "grads = backprop(output,Y,caches,params,lamb=0)\n",
    "grads"
   ]
  },
  {
   "cell_type": "code",
   "execution_count": 8,
   "metadata": {},
   "outputs": [],
   "source": [
    "#Load training data stored in MNIST Format\n",
    "mndata = MNIST()\n",
    "mndata.gz = True\n",
    "images,labels = mndata.load_training()"
   ]
  },
  {
   "cell_type": "code",
   "execution_count": 9,
   "metadata": {},
   "outputs": [
    {
     "data": {
      "text/plain": [
       "((784, 60000), (10, 60000))"
      ]
     },
     "execution_count": 9,
     "metadata": {},
     "output_type": "execute_result"
    }
   ],
   "source": [
    "X = np.array(images).T\n",
    "Y = np.array(labels)\n",
    "Y_hot = one_hot(Y)\n",
    "X.shape,Y_hot.shape"
   ]
  },
  {
   "cell_type": "code",
   "execution_count": 10,
   "metadata": {},
   "outputs": [],
   "source": [
    "Xnorm = X/255"
   ]
  },
  {
   "cell_type": "code",
   "execution_count": 11,
   "metadata": {},
   "outputs": [],
   "source": [
    "testX,testY = mndata.load_testing()"
   ]
  },
  {
   "cell_type": "code",
   "execution_count": 12,
   "metadata": {},
   "outputs": [
    {
     "data": {
      "text/plain": [
       "((784, 10000), (10000,))"
      ]
     },
     "execution_count": 12,
     "metadata": {},
     "output_type": "execute_result"
    }
   ],
   "source": [
    "testX = np.array(testX).T\n",
    "testY = np.array(testY)\n",
    "testX.shape,testY.shape"
   ]
  },
  {
   "cell_type": "code",
   "execution_count": 13,
   "metadata": {},
   "outputs": [],
   "source": [
    "test_Xnorm = testX/255"
   ]
  },
  {
   "cell_type": "code",
   "execution_count": 14,
   "metadata": {},
   "outputs": [
    {
     "data": {
      "image/png": "[encoded data removed]",
      "text/plain": [
       "<matplotlib.figure.Figure at 0x7f790d1e2198>"
      ]
     },
     "metadata": {},
     "output_type": "display_data"
    }
   ],
   "source": [
    "# Plotting 30 random examples from X\n",
    "indices = np.random.choice(Y.size,30)\n",
    "\n",
    "fig = plt.figure()\n",
    "for i in range (30):\n",
    "    img = X[:,indices[i]].reshape(28,28)\n",
    "    fig.add_subplot(5,6,i+1)\n",
    "    plt.imshow(img,cmap='gray')\n",
    "    plt.axis(\"off\")\n",
    "\n",
    "plt.show()"
   ]
  },
  {
   "cell_type": "code",
   "execution_count": 15,
   "metadata": {},
   "outputs": [],
   "source": [
    "def random_mini_batches(X,Y,batch_size = 64):\n",
    "    \n",
    "    mini_batches = []\n",
    "    m = X.shape[1]\n",
    "    # Shuffle\n",
    "    permute = np.random.permutation(m)\n",
    "    X = X[:,permute]\n",
    "    Y = Y[:,permute]\n",
    "    \n",
    "    # Partition\n",
    "    complete_batches = math.floor(m/batch_size)\n",
    "    for k in range(complete_batches):\n",
    "        batch_X = X[:,k*batch_size:(k+1)*batch_size]\n",
    "        batch_Y = Y[:,k*batch_size:(k+1)*batch_size]\n",
    "        batch = (batch_X,batch_Y)\n",
    "        mini_batches.append(batch)\n",
    "        \n",
    "    # Handling the end case\n",
    "    if m % batch_size != 0:\n",
    "        batch_X = X[:,(k+1)*batch_size:]\n",
    "        batch_Y = Y[:,(k+1)*batch_size:]\n",
    "        batch = (batch_X,batch_Y)\n",
    "        mini_batches.append(batch)\n",
    "        \n",
    "    return mini_batches"
   ]
  },
  {
   "cell_type": "code",
   "execution_count": 16,
   "metadata": {},
   "outputs": [
    {
     "name": "stdout",
     "output_type": "stream",
     "text": [
      "shape of the 1st mini_batch_X: (5, 8)\n",
      "shape of the 2nd mini_batch_X: (5, 8)\n",
      "shape of the 3rd mini_batch_X: (5, 4)\n",
      "shape of the 1st mini_batch_Y: (1, 8)\n",
      "shape of the 2nd mini_batch_Y: (1, 8)\n",
      "shape of the 3rd mini_batch_Y: (1, 4)\n"
     ]
    }
   ],
   "source": [
    "tempX = np.random.rand(5,20)\n",
    "tempY = np.random.rand(1,20)>0.5\n",
    "mini_b =random_mini_batches(tempX,tempY,8)\n",
    "print (\"shape of the 1st mini_batch_X: \" + str(mini_b[0][0].shape))\n",
    "print (\"shape of the 2nd mini_batch_X: \" + str(mini_b[1][0].shape))\n",
    "print (\"shape of the 3rd mini_batch_X: \" + str(mini_b[2][0].shape))\n",
    "print (\"shape of the 1st mini_batch_Y: \" + str(mini_b[0][1].shape))\n",
    "print (\"shape of the 2nd mini_batch_Y: \" + str(mini_b[1][1].shape)) \n",
    "print (\"shape of the 3rd mini_batch_Y: \" + str(mini_b[2][1].shape))\n"
   ]
  },
  {
   "cell_type": "code",
   "execution_count": 17,
   "metadata": {},
   "outputs": [],
   "source": [
    "def model(X,Y,layer_dims,alpha=0.01,batch_size=128,num_epochs=1000\n",
    "          ,lamb=0,print_cost=True,grad_check=False):\n",
    "    \n",
    "    params = params_init(layer_dims)\n",
    "    v,s = init_for_adam(params)\n",
    "    t = 0\n",
    "    hist_cost=[]\n",
    "    \n",
    "    epoch_choice = np.random.choice(num_epochs,2)\n",
    "    \n",
    "    num_batches = np.ceil(X.shape[1]/batch_size)\n",
    "    \n",
    "    for i in range(num_epochs):\n",
    "        epoch_cost = 0 \n",
    "        minibatches = random_mini_batches(X,Y,batch_size)\n",
    "        iter_check = 0\n",
    "        lr = learningRate_decay(alpha,i)\n",
    "         \n",
    "        for mini_b in minibatches:\n",
    "            (mini_x,mini_y) = mini_b\n",
    "            AL,caches = forward_prop(mini_x,params)\n",
    "            AL = np.clip(AL,a_min=1e-10,a_max=None)\n",
    "            reg_term = l2regularization(params,lamb)\n",
    "            cost = costFunction(AL,mini_y,reg_term)\n",
    "            epoch_cost += cost \n",
    "            grads = backprop(AL,mini_y,caches,params,lamb)\n",
    "            if grad_check and i in epoch_choice  and iter_check <3:\n",
    "                gradient_check(mini_x,mini_y,params,grads)\n",
    "                iter_check +=1\n",
    "            t += 1\n",
    "            params,v,s = update_parameters_with_adam(params,grads,v,s,t,lr)\n",
    "        \n",
    "        \n",
    "        hist_cost.append(epoch_cost/num_batches)\n",
    "        if i%50 == 0 and print_cost:\n",
    "            print (\"Cost after epoch %i: %f\" %(i, epoch_cost/num_batches))\n",
    "            \n",
    "            \n",
    "    if grad_check == False:        \n",
    "        plt.plot(np.squeeze(hist_cost))\n",
    "        plt.ylabel('Cost')\n",
    "        plt.xlabel('Epochs')\n",
    "        plt.title('Starting Learing Rate = '+ str(alpha))\n",
    "        plt.show()\n",
    "    \n",
    "    return params"
   ]
  },
  {
   "cell_type": "code",
   "execution_count": 18,
   "metadata": {},
   "outputs": [
    {
     "name": "stdout",
     "output_type": "stream",
     "text": [
      "Cost after epoch 0: 0.684243\n",
      "\u001b[92mYour backward propagation works perfectly fine! difference = 7.42655110319944e-09\u001b[0m\n",
      "\u001b[92mYour backward propagation works perfectly fine! difference = 6.691855996308466e-09\u001b[0m\n",
      "\u001b[92mYour backward propagation works perfectly fine! difference = 5.12675773049153e-09\u001b[0m\n",
      "\u001b[92mYour backward propagation works perfectly fine! difference = 8.29155430143648e-09\u001b[0m\n",
      "\u001b[92mYour backward propagation works perfectly fine! difference = 7.31761712342141e-09\u001b[0m\n",
      "\u001b[92mYour backward propagation works perfectly fine! difference = 5.313707787291777e-09\u001b[0m\n",
      "Cost after epoch 50: 0.160699\n",
      "Cost after epoch 100: 0.143160\n",
      "Cost after epoch 150: 0.134988\n"
     ]
    }
   ],
   "source": [
    "layer_dims = [X.shape[0],10,Y_hot.shape[0]]\n",
    "params0 = model(Xnorm,Y_hot,layer_dims,grad_check=True,alpha=0.001,num_epochs=200)"
   ]
  },
  {
   "cell_type": "code",
   "execution_count": 19,
   "metadata": {},
   "outputs": [],
   "source": [
    "layer_dims = [X.shape[0],30,20,Y_hot.shape[0]]"
   ]
  },
  {
   "cell_type": "code",
   "execution_count": 20,
   "metadata": {},
   "outputs": [
    {
     "name": "stdout",
     "output_type": "stream",
     "text": [
      "Cost after epoch 0: 0.689074\n",
      "Cost after epoch 50: 0.027582\n",
      "Cost after epoch 100: 0.006540\n",
      "Cost after epoch 150: 0.003298\n",
      "Cost after epoch 200: 0.000420\n",
      "Cost after epoch 250: 0.000182\n"
     ]
    },
    {
     "data": {
      "image/png": "[encoded data removed]",
      "text/plain": [
       "<matplotlib.figure.Figure at 0x7f79059fa470>"
      ]
     },
     "metadata": {},
     "output_type": "display_data"
    },
    {
     "name": "stdout",
     "output_type": "stream",
     "text": [
      "Accuracy on the Training Set: 100.0 %\n",
      "Accuracy on the Test Set: 96.34 %\n",
      "Neural Network made errors in predicting 366 samples out of 10000 in the Test Set \n"
     ]
    }
   ],
   "source": [
    "params1 = model(Xnorm,Y_hot,layer_dims,num_epochs=300,\n",
    "                batch_size=256,alpha=0.001,lamb=0)\n",
    "accuracy(Xnorm,Y,test_Xnorm,testY,params1)"
   ]
  },
  {
   "cell_type": "code",
   "execution_count": 21,
   "metadata": {},
   "outputs": [
    {
     "name": "stdout",
     "output_type": "stream",
     "text": [
      "Cost after epoch 0: 0.847248\n",
      "Cost after epoch 50: 0.141101\n",
      "Cost after epoch 100: 0.129894\n",
      "Cost after epoch 150: 0.125660\n",
      "Cost after epoch 200: 0.122458\n",
      "Cost after epoch 250: 0.120910\n"
     ]
    },
    {
     "data": {
      "image/png": "[encoded data removed]",
      "text/plain": [
       "<matplotlib.figure.Figure at 0x7f79059f12e8>"
      ]
     },
     "metadata": {},
     "output_type": "display_data"
    },
    {
     "name": "stdout",
     "output_type": "stream",
     "text": [
      "Accuracy on the Training Set: 99.18 %\n",
      "Accuracy on the Test Set: 97.63 %\n",
      "Neural Network made errors in predicting 237 samples out of 10000 in the Test Set \n"
     ]
    }
   ],
   "source": [
    "params2 = model(Xnorm,Y_hot,layer_dims,num_epochs=300,\n",
    "                batch_size=256,alpha=0.001,lamb=0.24)\n",
    "accuracy(Xnorm,Y,test_Xnorm,testY,params2)"
   ]
  },
  {
   "cell_type": "code",
   "execution_count": 22,
   "metadata": {},
   "outputs": [],
   "source": [
    "pred_y = predict_multiClass(test_Xnorm,params2)"
   ]
  },
  {
   "cell_type": "code",
   "execution_count": 23,
   "metadata": {},
   "outputs": [
    {
     "data": {
      "image/png": "[encoded data removed]",
      "text/plain": [
       "<matplotlib.figure.Figure at 0x7f7905962710>"
      ]
     },
     "metadata": {},
     "output_type": "display_data"
    }
   ],
   "source": [
    "indices = np.random.choice(testY.size,30)\n",
    "\n",
    "fig = plt.figure()\n",
    "for i in range (30):\n",
    "    img = testX[:,indices[i]].reshape(28,28)\n",
    "    fig.add_subplot(5,6,i+1)\n",
    "    plt.imshow(img,cmap='gray')\n",
    "    plt.title('y = '+str(pred_y[indices[i]]))\n",
    "    plt.axis(\"off\")\n",
    "    \n",
    "plt.subplots_adjust(hspace = 0.6)   \n",
    "plt.show()"
   ]
  },
  {
   "cell_type": "code",
   "execution_count": null,
   "metadata": {},
   "outputs": [],
   "source": []
  }
 ],
 "metadata": {
  "kernelspec": {
   "display_name": "Python 3",
   "language": "python",
   "name": "python3"
  },
  "language_info": {
   "codemirror_mode": {
    "name": "ipython",
    "version": 3
   },
   "file_extension": ".py",
   "mimetype": "text/x-python",
   "name": "python",
   "nbconvert_exporter": "python",
   "pygments_lexer": "ipython3",
   "version": "3.6.4"
  }
 },
 "nbformat": 4,
 "nbformat_minor": 2
}
